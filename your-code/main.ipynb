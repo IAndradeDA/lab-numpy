{
 "cells": [
  {
   "cell_type": "markdown",
   "metadata": {},
   "source": [
    "# Intrduction to NumPy\n",
    "\n",
    "\n",
    "#### 1. Import NumPy under the name np."
   ]
  },
  {
   "cell_type": "code",
   "execution_count": 48,
   "metadata": {},
   "outputs": [],
   "source": [
    "# your code here\n",
    "import numpy as np"
   ]
  },
  {
   "cell_type": "markdown",
   "metadata": {},
   "source": [
    "#### 2. Print your NumPy version."
   ]
  },
  {
   "cell_type": "code",
   "execution_count": 49,
   "metadata": {},
   "outputs": [
    {
     "data": {
      "text/plain": [
       "'1.21.5'"
      ]
     },
     "execution_count": 49,
     "metadata": {},
     "output_type": "execute_result"
    }
   ],
   "source": [
    "# your code here\n",
    "np.version.version"
   ]
  },
  {
   "cell_type": "markdown",
   "metadata": {},
   "source": [
    "#### 3. Generate a 2x3x5 3-dimensional array with random values. Assign the array to variable *a*.\n",
    "**Challenge**: there are at least three easy ways that use numpy to generate random arrays. How many ways can you find?"
   ]
  },
  {
   "cell_type": "code",
   "execution_count": 50,
   "metadata": {},
   "outputs": [
    {
     "data": {
      "text/plain": [
       "array([[[0.79680604, 0.94358711, 0.58643839, 0.37726779, 0.91725683],\n",
       "        [0.22003344, 0.82214262, 0.0601602 , 0.49815809, 0.98309072],\n",
       "        [0.96706848, 0.16183576, 0.98893206, 0.52562609, 0.17477361]],\n",
       "\n",
       "       [[0.35783487, 0.72820453, 0.93925808, 0.44626323, 0.34527304],\n",
       "        [0.97425549, 0.86044818, 0.392201  , 0.0348609 , 0.4373033 ],\n",
       "        [0.1926788 , 0.90899032, 0.47971337, 0.33169505, 0.17283461]]])"
      ]
     },
     "execution_count": 50,
     "metadata": {},
     "output_type": "execute_result"
    }
   ],
   "source": [
    "# Method 1\n",
    "a = np.random.random(size=(2,3,5)) \n",
    "a"
   ]
  },
  {
   "cell_type": "code",
   "execution_count": 51,
   "metadata": {},
   "outputs": [],
   "source": [
    "# Method 2\n"
   ]
  },
  {
   "cell_type": "code",
   "execution_count": 52,
   "metadata": {},
   "outputs": [],
   "source": [
    "# Method 3\n"
   ]
  },
  {
   "cell_type": "markdown",
   "metadata": {},
   "source": [
    "#### 4. Print *a*.\n"
   ]
  },
  {
   "cell_type": "code",
   "execution_count": 53,
   "metadata": {},
   "outputs": [
    {
     "name": "stdout",
     "output_type": "stream",
     "text": [
      "[[[0.79680604 0.94358711 0.58643839 0.37726779 0.91725683]\n",
      "  [0.22003344 0.82214262 0.0601602  0.49815809 0.98309072]\n",
      "  [0.96706848 0.16183576 0.98893206 0.52562609 0.17477361]]\n",
      "\n",
      " [[0.35783487 0.72820453 0.93925808 0.44626323 0.34527304]\n",
      "  [0.97425549 0.86044818 0.392201   0.0348609  0.4373033 ]\n",
      "  [0.1926788  0.90899032 0.47971337 0.33169505 0.17283461]]]\n"
     ]
    }
   ],
   "source": [
    "# your code here\n",
    "print(a)"
   ]
  },
  {
   "cell_type": "markdown",
   "metadata": {},
   "source": [
    "#### 5. Create a 5x2x3 3-dimensional array with all values equaling 1. Assign the array to variable *b*."
   ]
  },
  {
   "cell_type": "code",
   "execution_count": 54,
   "metadata": {},
   "outputs": [],
   "source": [
    "# your code here\n",
    "b = np.ones(shape=(5,2,3))"
   ]
  },
  {
   "cell_type": "markdown",
   "metadata": {},
   "source": [
    "#### 6. Print *b*.\n"
   ]
  },
  {
   "cell_type": "code",
   "execution_count": 55,
   "metadata": {},
   "outputs": [
    {
     "name": "stdout",
     "output_type": "stream",
     "text": [
      "[[[1. 1. 1.]\n",
      "  [1. 1. 1.]]\n",
      "\n",
      " [[1. 1. 1.]\n",
      "  [1. 1. 1.]]\n",
      "\n",
      " [[1. 1. 1.]\n",
      "  [1. 1. 1.]]\n",
      "\n",
      " [[1. 1. 1.]\n",
      "  [1. 1. 1.]]\n",
      "\n",
      " [[1. 1. 1.]\n",
      "  [1. 1. 1.]]]\n"
     ]
    }
   ],
   "source": [
    "# your code here\n",
    "print(b)"
   ]
  },
  {
   "cell_type": "markdown",
   "metadata": {},
   "source": [
    "#### 7. Do *a* and *b* have the same size? How do you prove that in Python code?"
   ]
  },
  {
   "cell_type": "code",
   "execution_count": 56,
   "metadata": {},
   "outputs": [
    {
     "name": "stdout",
     "output_type": "stream",
     "text": [
      "(2, 3, 5)\n",
      "(5, 2, 3)\n"
     ]
    }
   ],
   "source": [
    "# your code here\n",
    "print(a.shape)\n",
    "print(b.shape)\n",
    "\n",
    "# a has 10 elements and b has 10 elements."
   ]
  },
  {
   "cell_type": "markdown",
   "metadata": {},
   "source": [
    "#### 8. Are you able to add *a* and *b*? Why or why not?\n"
   ]
  },
  {
   "cell_type": "code",
   "execution_count": 57,
   "metadata": {},
   "outputs": [],
   "source": [
    "# your answer here\n",
    "# First we have to reshape for the same format. And after is possible"
   ]
  },
  {
   "cell_type": "markdown",
   "metadata": {},
   "source": [
    "#### 9. Transpose *b* so that it has the same structure of *a* (i.e. become a 2x3x5 array). Assign the transposed array to variable *c*."
   ]
  },
  {
   "cell_type": "code",
   "execution_count": 58,
   "metadata": {},
   "outputs": [
    {
     "name": "stdout",
     "output_type": "stream",
     "text": [
      "[[[1. 1. 1. 1. 1.]\n",
      "  [1. 1. 1. 1. 1.]\n",
      "  [1. 1. 1. 1. 1.]]\n",
      "\n",
      " [[1. 1. 1. 1. 1.]\n",
      "  [1. 1. 1. 1. 1.]\n",
      "  [1. 1. 1. 1. 1.]]]\n",
      "(2, 3, 5)\n"
     ]
    }
   ],
   "source": [
    "# your code here\n",
    "c = b.reshape(2,3,5) \n",
    "\n",
    "print(c)\n",
    "print(c.shape)\n"
   ]
  },
  {
   "cell_type": "markdown",
   "metadata": {},
   "source": [
    "#### 10. Try to add *a* and *c*. Now it should work. Assign the sum to variable *d*. But why does it work now?"
   ]
  },
  {
   "cell_type": "code",
   "execution_count": 59,
   "metadata": {},
   "outputs": [
    {
     "name": "stdout",
     "output_type": "stream",
     "text": [
      "[[[1.79680604 1.94358711 1.58643839 1.37726779 1.91725683]\n",
      "  [1.22003344 1.82214262 1.0601602  1.49815809 1.98309072]\n",
      "  [1.96706848 1.16183576 1.98893206 1.52562609 1.17477361]]\n",
      "\n",
      " [[1.35783487 1.72820453 1.93925808 1.44626323 1.34527304]\n",
      "  [1.97425549 1.86044818 1.392201   1.0348609  1.4373033 ]\n",
      "  [1.1926788  1.90899032 1.47971337 1.33169505 1.17283461]]]\n"
     ]
    }
   ],
   "source": [
    "# your code/answer here\n",
    "d = a + c\n",
    "print(d)"
   ]
  },
  {
   "cell_type": "markdown",
   "metadata": {},
   "source": [
    "#### 11. Print *a* and *d*. Notice the difference and relation of the two array in terms of the values? Explain."
   ]
  },
  {
   "cell_type": "code",
   "execution_count": 60,
   "metadata": {},
   "outputs": [
    {
     "name": "stdout",
     "output_type": "stream",
     "text": [
      "[[[0.79680604 0.94358711 0.58643839 0.37726779 0.91725683]\n",
      "  [0.22003344 0.82214262 0.0601602  0.49815809 0.98309072]\n",
      "  [0.96706848 0.16183576 0.98893206 0.52562609 0.17477361]]\n",
      "\n",
      " [[0.35783487 0.72820453 0.93925808 0.44626323 0.34527304]\n",
      "  [0.97425549 0.86044818 0.392201   0.0348609  0.4373033 ]\n",
      "  [0.1926788  0.90899032 0.47971337 0.33169505 0.17283461]]]\n",
      "[[[1. 1. 1.]\n",
      "  [1. 1. 1.]]\n",
      "\n",
      " [[1. 1. 1.]\n",
      "  [1. 1. 1.]]\n",
      "\n",
      " [[1. 1. 1.]\n",
      "  [1. 1. 1.]]\n",
      "\n",
      " [[1. 1. 1.]\n",
      "  [1. 1. 1.]]\n",
      "\n",
      " [[1. 1. 1.]\n",
      "  [1. 1. 1.]]]\n"
     ]
    }
   ],
   "source": [
    "# your code/answer here\n",
    "print(a)\n",
    "print(b)\n",
    "\n",
    "# different array shapes is not possible to make math operations because it don't know witch elements apply the operation. "
   ]
  },
  {
   "cell_type": "markdown",
   "metadata": {},
   "source": [
    "#### 12. Multiply *a* and *c*. Assign the result to *e*."
   ]
  },
  {
   "cell_type": "code",
   "execution_count": 61,
   "metadata": {},
   "outputs": [
    {
     "name": "stdout",
     "output_type": "stream",
     "text": [
      "[[[0.79680604 0.94358711 0.58643839 0.37726779 0.91725683]\n",
      "  [0.22003344 0.82214262 0.0601602  0.49815809 0.98309072]\n",
      "  [0.96706848 0.16183576 0.98893206 0.52562609 0.17477361]]\n",
      "\n",
      " [[0.35783487 0.72820453 0.93925808 0.44626323 0.34527304]\n",
      "  [0.97425549 0.86044818 0.392201   0.0348609  0.4373033 ]\n",
      "  [0.1926788  0.90899032 0.47971337 0.33169505 0.17283461]]]\n"
     ]
    }
   ],
   "source": [
    "# your code here\n",
    "e = a*c\n",
    "print(e)"
   ]
  },
  {
   "cell_type": "markdown",
   "metadata": {},
   "source": [
    "#### 13. Does *e* equal to *a*? Why or why not?\n"
   ]
  },
  {
   "cell_type": "code",
   "execution_count": 62,
   "metadata": {},
   "outputs": [
    {
     "name": "stdout",
     "output_type": "stream",
     "text": [
      "[[[ True  True  True  True  True]\n",
      "  [ True  True  True  True  True]\n",
      "  [ True  True  True  True  True]]\n",
      "\n",
      " [[ True  True  True  True  True]\n",
      "  [ True  True  True  True  True]\n",
      "  [ True  True  True  True  True]]]\n"
     ]
    }
   ],
   "source": [
    "# your code/answer here\n",
    "print(e == a)\n",
    "\n",
    "# they are exactly the same. e = a * 1"
   ]
  },
  {
   "cell_type": "markdown",
   "metadata": {},
   "source": [
    "#### 14. Identify the max, min, and mean values in *d*. Assign those values to variables *d_max*, *d_min* and *d_mean*."
   ]
  },
  {
   "cell_type": "code",
   "execution_count": 63,
   "metadata": {},
   "outputs": [
    {
     "name": "stdout",
     "output_type": "stream",
     "text": [
      "The max is:  1.9889320586215231\n",
      "The min is:  1.03486090455688\n",
      "The mean is:  1.554166400419355\n"
     ]
    }
   ],
   "source": [
    "# your code here\n",
    "d_max = d.max()\n",
    "\n",
    "d_min = d.min()\n",
    "\n",
    "d_mean = d.mean()\n",
    "\n",
    "print(\"The max is: \",d_max)\n",
    "print(\"The min is: \",d_min)\n",
    "print(\"The mean is: \",d_mean)"
   ]
  },
  {
   "cell_type": "markdown",
   "metadata": {},
   "source": [
    "#### 15. Now we want to label the values in *d*. First create an empty array *f* with the same shape (i.e. 2x3x5) as *d* using `np.empty`.\n"
   ]
  },
  {
   "cell_type": "code",
   "execution_count": 74,
   "metadata": {},
   "outputs": [],
   "source": [
    "# your code here\n",
    "f = np.empty(shape=(2,3,5),dtype=int)"
   ]
  },
  {
   "cell_type": "markdown",
   "metadata": {},
   "source": [
    "#### 16. Populate the values in *f*. \n",
    "\n",
    "For each value in *d*, if it's larger than *d_min* but smaller than *d_mean*, assign 25 to the corresponding value in *f*. If a value in *d* is larger than *d_mean* but smaller than *d_max*, assign 75 to the corresponding value in *f*. If a value equals to *d_mean*, assign 50 to the corresponding value in *f*. Assign 0 to the corresponding value(s) in *f* for *d_min* in *d*. Assign 100 to the corresponding value(s) in *f* for *d_max* in *d*. In the end, f should have only the following values: 0, 25, 50, 75, and 100.\n",
    "\n",
    "**Note**: you don't have to use Numpy in this question."
   ]
  },
  {
   "cell_type": "code",
   "execution_count": 75,
   "metadata": {},
   "outputs": [
    {
     "name": "stdout",
     "output_type": "stream",
     "text": [
      "[[[1.79680604 1.94358711 1.58643839 1.37726779 1.91725683]\n",
      "  [1.22003344 1.82214262 1.0601602  1.49815809 1.98309072]\n",
      "  [1.96706848 1.16183576 1.98893206 1.52562609 1.17477361]]\n",
      "\n",
      " [[1.35783487 1.72820453 1.93925808 1.44626323 1.34527304]\n",
      "  [1.97425549 1.86044818 1.392201   1.0348609  1.4373033 ]\n",
      "  [1.1926788  1.90899032 1.47971337 1.33169505 1.17283461]]]\n",
      "[[[ 75  75  75   0  75]\n",
      "  [  0  75   0   0  75]\n",
      "  [ 75   0 100   0   0]]\n",
      "\n",
      " [[  0  75  75   0   0]\n",
      "  [ 75  75   0   0   0]\n",
      "  [  0  75   0   0   0]]]\n"
     ]
    }
   ],
   "source": [
    "# your code here\n",
    "\n",
    "f[(d_mean < d) & (d > d_min)]= 25\n",
    "f[(d > d_mean) & (d < d_max)] = 75\n",
    "f[d == d_mean] = 50\n",
    "f[d_min == d] = 0\n",
    "f[d_max == d] = 100\n",
    "\n",
    "print(d)\n",
    "print(f)"
   ]
  },
  {
   "cell_type": "markdown",
   "metadata": {},
   "source": [
    "#### 17. Print *d* and *f*. Do you have your expected *f*?\n",
    "For instance, if your *d* is:\n",
    "```python\n",
    "[[[1.85836099, 1.67064465, 1.62576044, 1.40243961, 1.88454931],\n",
    "[1.75354326, 1.69403643, 1.36729252, 1.61415071, 1.12104981],\n",
    "[1.72201435, 1.1862918 , 1.87078449, 1.7726778 , 1.88180042]],\n",
    "[[1.44747908, 1.31673383, 1.02000951, 1.52218947, 1.97066381],\n",
    "[1.79129243, 1.74983003, 1.96028037, 1.85166831, 1.65450881],\n",
    "[1.18068344, 1.9587381 , 1.00656599, 1.93402165, 1.73514584]]]\n",
    "```\n",
    "Your *f* should be:\n",
    "```python\n",
    "[[[ 75.,  75.,  75.,  25.,  75.],\n",
    "[ 75.,  75.,  25.,  25.,  25.],\n",
    "[ 75.,  25.,  75.,  75.,  75.]],\n",
    "[[ 25.,  25.,  25.,  25., 100.],\n",
    "[ 75.,  75.,  75.,  75.,  75.],\n",
    "[ 25.,  75.,   0.,  75.,  75.]]]\n",
    "```"
   ]
  },
  {
   "cell_type": "markdown",
   "metadata": {},
   "source": [
    "#### 18. Bonus question: instead of using numbers (i.e. 0, 25, 50, 75, and 100), use string values  (\"A\", \"B\", \"C\", \"D\", and \"E\") to label the array elements. For the example above, the expected result is:\n",
    "\n",
    "```python\n",
    "[[[ 'D',  'D',  'D',  'B',  'D'],\n",
    "[ 'D',  'D',  'B',  'B',  'B'],\n",
    "[ 'D',  'B',  'D',  'D',  'D']],\n",
    "[[ 'B',  'B',  'B',  'B',  'E'],\n",
    "[ 'D',  'D',  'D',  'D',  'D'],\n",
    "[ 'B',  'D',   'A',  'D', 'D']]]\n",
    "```\n",
    "**Note**: you don't have to use Numpy in this question."
   ]
  },
  {
   "cell_type": "code",
   "execution_count": 78,
   "metadata": {},
   "outputs": [
    {
     "name": "stdout",
     "output_type": "stream",
     "text": [
      "[[['D' 'D' 'D' 'A' 'D']\n",
      "  ['A' 'D' 'A' 'A' 'D']\n",
      "  ['D' 'A' 'E' 'A' 'A']]\n",
      "\n",
      " [['A' 'D' 'D' 'A' 'A']\n",
      "  ['D' 'D' 'A' 'A' 'A']\n",
      "  ['A' 'D' 'A' 'A' 'A']]]\n"
     ]
    }
   ],
   "source": [
    "g = f.astype(str)\n",
    "h = np.empty_like(g)\n",
    "\n",
    "h[ g == \"25\"]= \"B\"\n",
    "h[g == \"75\"] = \"D\"\n",
    "h[g == \"50\"] = \"C\"\n",
    "h[g == \"0\"] = \"A\"\n",
    "h[g == \"100\"] = \"E\"\n",
    "\n",
    "print(h)"
   ]
  },
  {
   "cell_type": "code",
   "execution_count": 73,
   "metadata": {},
   "outputs": [
    {
     "name": "stdout",
     "output_type": "stream",
     "text": [
      "[[['D' 'D' 'D' 0 'D']\n",
      "  [0 'D' 0 0 'D']\n",
      "  ['D' 0 'E' 0 0]]\n",
      "\n",
      " [[0 'D' 'D' 0 0]\n",
      "  ['D' 'D' 0 'A' 0]\n",
      "  [0 'D' 0 0 0]]]\n"
     ]
    }
   ],
   "source": [
    "# your code here\n",
    "# from numpy import dtype\n",
    "\n",
    "# f = np.array(f, dtype=object)\n",
    "\n",
    "# f[(d_mean < d) & (d > d_min)]= \"B\"\n",
    "# f[(d > d_mean) & (d < d_max)] = \"D\"\n",
    "# f[d == d_mean] = \"C\"\n",
    "# f[d_min == d] = \"A\"\n",
    "# f[d_max == d] = \"E\"\n",
    "\n",
    "# print(f)"
   ]
  }
 ],
 "metadata": {
  "kernelspec": {
   "display_name": "Python 3.9.12 ('base')",
   "language": "python",
   "name": "python3"
  },
  "language_info": {
   "codemirror_mode": {
    "name": "ipython",
    "version": 3
   },
   "file_extension": ".py",
   "mimetype": "text/x-python",
   "name": "python",
   "nbconvert_exporter": "python",
   "pygments_lexer": "ipython3",
   "version": "3.9.12"
  },
  "vscode": {
   "interpreter": {
    "hash": "f5774457b8c1cf4bac4e4c23232893fdbad35b8859f91210af1a70be630930af"
   }
  }
 },
 "nbformat": 4,
 "nbformat_minor": 2
}
